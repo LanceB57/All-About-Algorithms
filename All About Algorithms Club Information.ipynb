{
 "cells": [
  {
   "cell_type": "markdown",
   "metadata": {},
   "source": [
    "<style>\n",
    ".text_cell_render {\n",
    "font-family: Times New Roman, serif;\n",
    "}\n",
    "</style>"
   ]
  },
  {
   "cell_type": "markdown",
   "metadata": {},
   "source": [
    "# All About Algorithms $(A^3)$"
   ]
  },
  {
   "cell_type": "markdown",
   "metadata": {},
   "source": [
    "The *All About Algorithms* club will be a place for students to explore the various algorithms in the field of computer science via problem sets and occassional lecture series. Problems will be taken from presitigous programming competitions such as *USACO* and *Codeforces*, and thorough solutions will be provided.\n",
    "\n",
    "### Problem Sets/Sessions\n",
    "There will be Introductory problem sets for those who are new to coding and algorithms (new to *USACO*), and Intermediate problem sets for those who are somewhat familiar with algorithms but still want to improve their understanding ( $\\ge 1$ season of *USACO* experience). Everyone else will be a part of an Advanced problem session, which will be carried out in a \"problem of the day\" fashion.\n",
    "\n",
    "All problem sets will have respective solutions and explanations written by club organizers, and we'll be more than happy to walk you through them!\n",
    "\n",
    "### Lecture Series!\n",
    "Although problem sets will be quite helpful, lecture series will certainly be the highlight of this club. These lectures will be optional and held at the college level to explore the motivation, mathematics, and proofs behind popular algorithms in the various fields of computer science (such as graphs and machine learning!). Those who are familiar with mathematical proofs will find it quite refreshing to see methods of proof utilized in a different setting!\n",
    "\n",
    "### Additional Notes\n",
    "Problem sets will correlate with topics covered by the after-school *USACO* club, but students do not need to be a part of either to fully enjoy the other. Although a background in computer science and mathematics are recommended, they are by no means necessary.\n",
    "\n",
    "The club will be run by Lance Bae (lanbae23@bergen.org), Autumn Shin (arrshi22@bergen.org), and Jaiden Shin (jaishi23@bergen.org). Don't hesitate to reach out with any questions!"
   ]
  },
  {
   "cell_type": "markdown",
   "metadata": {},
   "source": [
    "##### Formatting"
   ]
  },
  {
   "cell_type": "code",
   "execution_count": 1,
   "metadata": {},
   "outputs": [
    {
     "data": {
      "text/html": [
       "<style>.container { width:85% !important; }</style>"
      ],
      "text/plain": [
       "<IPython.core.display.HTML object>"
      ]
     },
     "metadata": {},
     "output_type": "display_data"
    }
   ],
   "source": [
    "from IPython.core.display import display, HTML\n",
    "display(HTML(\"<style>.container { width:85% !important; }</style>\"))"
   ]
  }
 ],
 "metadata": {
  "kernelspec": {
   "display_name": "Python 3",
   "language": "python",
   "name": "python3"
  },
  "language_info": {
   "codemirror_mode": {
    "name": "ipython",
    "version": 3
   },
   "file_extension": ".py",
   "mimetype": "text/x-python",
   "name": "python",
   "nbconvert_exporter": "python",
   "pygments_lexer": "ipython3",
   "version": "3.8.3"
  }
 },
 "nbformat": 4,
 "nbformat_minor": 4
}
