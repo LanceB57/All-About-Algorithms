{
 "cells": [
  {
   "cell_type": "markdown",
   "metadata": {},
   "source": [
    "<style>\n",
    ".text_cell_render {\n",
    "font-family: Times New Roman, serif;\n",
    "}\n",
    "</style>"
   ]
  },
  {
   "cell_type": "markdown",
   "metadata": {
    "hideOutput": true
   },
   "source": [
    "# $A^3$ Intro Problem Set 1\n",
    "\n",
    "This problem set will be for students who are new to programming and trying to familiarize themselves with Bronze-level problems on USACO. Problems will increase in difficult, ending with a USACO problem. Problem sets will overall get more difficult to ensure growth. If you finish a problem set, ask us for our written solutions (official ones can be quite confusing at times, so we wrote our own) and move onto the next! Don't feel pressured to finish one problem set per meeting; go at your own pace. As always, feel free to reach out for help with any problems."
   ]
  },
  {
   "cell_type": "markdown",
   "metadata": {},
   "source": [
    "## Learning to Program\n",
    "If you want to learn a new programming language, here are links for [Python](https://www.codecademy.com/courses/learn-python-3/lessons/learn-python-syntax/exercises/welcome) and [C++](https://www.sololearn.com/Course/CPlusPlus/) (finishing Module 4 should suffice) syntax tutorials. As for learning how to develop a \"programming mindset\", [this](https://runestone.academy/runestone/books/published/thinkcpp/index.html) is a great C++ textbook. The Python alternative can be found [here](https://runestone.academy/runestone/books/published/thinkcspy/index.html).\n",
    "\n",
    "If you're wondering where to code, [repl](https://repl.it/~) is a great online IDE, with [onlinegdb](https://www.onlinegdb.com/) as a debugging tool. \n",
    "\n",
    "Don't worry too much about solving these problems if you're learning how to code, but we encourage you to do them as you go along!\n",
    "\n",
    "If you're confused about how to submit solutions on these various websites, let us know and we'll be happy to help."
   ]
  },
  {
   "cell_type": "markdown",
   "metadata": {},
   "source": [
    "## Question 1: [Codeforces 4A. Watermelon](https://codeforces.com/problemset/problem/4/A)\n",
    "An absolute classic, Watermelon is a basic problem to help first-time participants get familiar with the competitive programming environment. If you don't know much about modular arithmetic (which is needed for this problem), [this](https://www.geeksforgeeks.org/modular-arithmetic/) is a great place to look. "
   ]
  },
  {
   "cell_type": "markdown",
   "metadata": {},
   "source": [
    "## Question 2: [Leetcode 1. Two Sum](https://leetcode.com/problems/two-sum/)"
   ]
  },
  {
   "cell_type": "markdown",
   "metadata": {},
   "source": [
    "## Question 3: [Leetcode 9. Palindrome Number](https://leetcode.com/problems/palindrome-number/)\n",
    "This problem can be solved in many different ways; for a challenge, don't convert your parameter into a string!"
   ]
  },
  {
   "cell_type": "markdown",
   "metadata": {},
   "source": [
    "## Question 4: [Codeforces 50A. Domino Piling](https://codeforces.com/problemset/problem/50/A)"
   ]
  },
  {
   "cell_type": "markdown",
   "metadata": {},
   "source": [
    "## Question 5: [USACO 2016 Bronze: Square Pasture](http://usaco.org/index.php?page=viewproblem2&cpid=663)\n",
    "A USACO question to top it off!"
   ]
  },
  {
   "cell_type": "markdown",
   "metadata": {},
   "source": [
    "#### Ignore"
   ]
  },
  {
   "cell_type": "code",
   "execution_count": 1,
   "metadata": {},
   "outputs": [
    {
     "data": {
      "text/html": [
       "<style>.container { width:85% !important; }</style>"
      ],
      "text/plain": [
       "<IPython.core.display.HTML object>"
      ]
     },
     "metadata": {},
     "output_type": "display_data"
    }
   ],
   "source": [
    "from IPython.core.display import display, HTML\n",
    "display(HTML(\"<style>.container { width:85% !important; }</style>\"))"
   ]
  }
 ],
 "metadata": {
  "kernelspec": {
   "display_name": "Python 3",
   "language": "python",
   "name": "python3"
  },
  "language_info": {
   "codemirror_mode": {
    "name": "ipython",
    "version": 3
   },
   "file_extension": ".py",
   "mimetype": "text/x-python",
   "name": "python",
   "nbconvert_exporter": "python",
   "pygments_lexer": "ipython3",
   "version": "3.8.3"
  }
 },
 "nbformat": 4,
 "nbformat_minor": 4
}
