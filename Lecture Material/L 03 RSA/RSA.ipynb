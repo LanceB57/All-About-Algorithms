{
  "nbformat": 4,
  "nbformat_minor": 0,
  "metadata": {
    "colab": {
      "name": "RSA.ipynb",
      "provenance": []
    },
    "kernelspec": {
      "name": "python3",
      "display_name": "Python 3"
    }
  },
  "cells": [
    {
      "cell_type": "markdown",
      "metadata": {
        "id": "na2gosjgu1cC"
      },
      "source": [
        ""
      ]
    },
    {
      "cell_type": "markdown",
      "metadata": {
        "id": "4yRTPE8fu4h4"
      },
      "source": [
        "# Our $A^3$ RSA Encryption\n",
        "For the sake of our understanding, we will not try to make things too fancy, such as taking runtime shortcuts. Instead, we'll do everything in a brute-force manner; our parameters will be small enough for the code to run efficiently."
      ]
    },
    {
      "cell_type": "code",
      "metadata": {
        "id": "F7EPnUPtvQ1l"
      },
      "source": [
        "from math import gcd"
      ],
      "execution_count": 1,
      "outputs": []
    },
    {
      "cell_type": "markdown",
      "metadata": {
        "id": "j9uX8YjAwkKB"
      },
      "source": [
        "## Encrpytion"
      ]
    },
    {
      "cell_type": "code",
      "metadata": {
        "id": "F-8_I8P4vtyL"
      },
      "source": [
        "def encryptChar(char, e, N):\n",
        "  \"\"\"A function to encrypt a single character by returning a number\"\"\"\n",
        "  char = ord(char)\n",
        "  res = 1\n",
        "  for i in range(e):\n",
        "    res *= char\n",
        "    res = res % N\n",
        "  return res"
      ],
      "execution_count": 4,
      "outputs": []
    },
    {
      "cell_type": "code",
      "metadata": {
        "id": "I9y0Lzupxxdh"
      },
      "source": [
        "def encrypt(filename, e, N):\n",
        "  \"\"\"A function to encrypt an entire file\"\"\"\n",
        "  result = \"\"\n",
        "  file = open(filename, \"r\")\n",
        "  for line in file:\n",
        "    for char in line:\n",
        "      result += str(encryptChar(char, e, N)) + \" \"\n",
        "  return result"
      ],
      "execution_count": 2,
      "outputs": []
    },
    {
      "cell_type": "code",
      "metadata": {
        "id": "uzQ2WVIPyPZh"
      },
      "source": [
        "def encryptMain():\n",
        "  \"\"\"A function to control the encryption of a certain file\"\"\"\n",
        "  inFile = input(\"What is the name of the file which you'd like to encrypt? \")\n",
        "  ofFile = input(\"Where would you like to write your encrypted message? \")\n",
        "  \n",
        "  lock = open(\"lock.txt\", \"r\")\n",
        "  e, N = list(map(int, lock.readline().split()))\n",
        "\n",
        "  out = open(ofFile, \"w\")\n",
        "  out.write(encrypt(inFile, e, N))\n",
        "  out.close()"
      ],
      "execution_count": 3,
      "outputs": []
    },
    {
      "cell_type": "markdown",
      "metadata": {
        "id": "CVi2grJ5ydo5"
      },
      "source": [
        "## Decryption"
      ]
    },
    {
      "cell_type": "code",
      "metadata": {
        "id": "BPaSDqmEyeqX"
      },
      "source": [
        "def decryptNum(num, d, N):\n",
        "  \"\"\"A function to decrypt a number by returning a character\"\"\"\n",
        "  res = 1\n",
        "  for i in range(d):\n",
        "    res *= num\n",
        "    res = res % N\n",
        "  return chr(res)"
      ],
      "execution_count": 5,
      "outputs": []
    },
    {
      "cell_type": "code",
      "metadata": {
        "id": "S4M6H7hgy0Kq"
      },
      "source": [
        "def decrypt(filename, d, N):\n",
        "  \"\"\"A function to decrypt a file\"\"\"\n",
        "  result = \"\"\n",
        "  file = open(filename, \"r\")\n",
        "  for line in file:\n",
        "    line = line.split()\n",
        "    line = list(map(int, line))\n",
        "    for num in line:\n",
        "      result += decryptNum(num, d, N)\n",
        "  return result"
      ],
      "execution_count": 6,
      "outputs": []
    },
    {
      "cell_type": "code",
      "metadata": {
        "id": "dw5eRnwX1DZx"
      },
      "source": [
        "def decryptMain():\n",
        "  \"\"\"A function to control decryption\"\"\"\n",
        "  inFile = input(\"What is the name of the file which you'd like the decrpyt? \")\n",
        "  ofFile = input(\"Where would you like to write your decrypted message? \")\n",
        "\n",
        "  key = open(\"key.txt\", \"r\")\n",
        "  d, N = list(map(int, key.readline().split()))\n",
        "\n",
        "  out = open(ofFile, \"w\")\n",
        "  out.write(decrypt(inFile, d, N))\n",
        "  out.close()"
      ],
      "execution_count": 7,
      "outputs": []
    },
    {
      "source": [
        "## Main functions"
      ],
      "cell_type": "markdown",
      "metadata": {
        "id": "kOmI22aNvLv4"
      }
    },
    {
      "cell_type": "code",
      "metadata": {
        "id": "ajlTn-wUu_Yo"
      },
      "source": [
        "def totient(p, q):\n",
        "  \"\"\"A function to get the totient value of two primes\"\"\"\n",
        "  return (p - 1) * (q - 1)"
      ],
      "execution_count": 8,
      "outputs": []
    },
    {
      "cell_type": "code",
      "metadata": {
        "id": "9LBij2T9vIrh"
      },
      "source": [
        "def getE(p, q):\n",
        "  \"\"\"Get our encryption lock\"\"\"\n",
        "  N = p * q\n",
        "  tot = totient(p, q)\n",
        "  for e in range(2, N):\n",
        "    if gcd(e, N) == 1 and gcd(e, tot) == 1:\n",
        "      return e"
      ],
      "execution_count": 9,
      "outputs": []
    },
    {
      "cell_type": "code",
      "metadata": {
        "id": "59elVzlCvuoJ"
      },
      "source": [
        "def getD(p, q, e):\n",
        "  \"\"\"\"Get our decryption key based on our primes and encryption key\"\"\"\n",
        "  tot = totient(p, q)\n",
        "  for d in range(2, tot):\n",
        "    if (d * e) % tot == 1:\n",
        "      return d"
      ],
      "execution_count": 10,
      "outputs": []
    },
    {
      "cell_type": "code",
      "metadata": {
        "id": "0fku-qNj1VWo"
      },
      "source": [
        "def primes():\n",
        "  \"\"\"Handle the primes to write the locks and keys\"\"\"\n",
        "  p = int(input(\"What is your first prime? \"))\n",
        "  q = int(input(\"What is your second prime? \"))\n",
        "\n",
        "  N = p * q\n",
        "\n",
        "  lock = open(\"lock.txt\", \"w\")\n",
        "  lock.write(str(getE(p, q)) + \" \" + str(N) + \"\\n\")\n",
        "\n",
        "  key = open(\"key.txt\", \"w\")\n",
        "  key.write(str(getD(p, q, getE(p, q))) + \" \" + str(N) + \"\\n\")\n",
        "\n",
        "  lock.close()\n",
        "  key.close()"
      ],
      "execution_count": 11,
      "outputs": []
    },
    {
      "cell_type": "code",
      "metadata": {
        "id": "MiQqQHCZ3Hz6"
      },
      "source": [
        "def main():\n",
        "  \"\"\"Our main function to control the flow of our program\"\"\"\n",
        "\n",
        "  primes()\n",
        "\n",
        "  choice = input(\"Would you like to (E)ncrypt, (D)ecrypt, or e(X)it? \")\n",
        "  while choice != \"X\":\n",
        "    if choice == \"E\":\n",
        "      encryptMain()\n",
        "    elif choice == \"D\":\n",
        "      decryptMain()\n",
        "    else:\n",
        "      print(\"That was an invalid choice. Please try again.\")\n",
        "    choice = input(\"Would you like to (E)ncrypt, (D)ecrypt, or e(X)it? \")"
      ],
      "execution_count": 12,
      "outputs": []
    },
    {
      "cell_type": "code",
      "metadata": {
        "id": "Ne_RwUqQ3gjg",
        "outputId": "7f83bec8-12b2-4780-efac-6b5b5d42652d",
        "colab": {
          "base_uri": "https://localhost:8080/"
        }
      },
      "source": [
        "main()"
      ],
      "execution_count": 15,
      "outputs": []
    }
  ]
}