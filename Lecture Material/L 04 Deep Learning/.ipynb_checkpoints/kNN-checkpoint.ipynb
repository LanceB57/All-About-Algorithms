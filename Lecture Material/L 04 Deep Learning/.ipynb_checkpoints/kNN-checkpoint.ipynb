{
 "cells": [
  {
   "cell_type": "markdown",
   "metadata": {},
   "source": [
    "# $k$-Nearest Neighbors\n",
    "We'll be applying the $k$-Nearest Neighbors method to a dataset of iris properties. You can read more about this dataset [here](https://scikit-learn.org/stable/auto_examples/datasets/plot_iris_dataset.html)."
   ]
  },
  {
   "cell_type": "markdown",
   "metadata": {},
   "source": [
    "Here, we import the necessary libraries and data. Note that we set our random seed to $1$ so that our data is consistent."
   ]
  },
  {
   "cell_type": "code",
   "execution_count": 112,
   "metadata": {},
   "outputs": [],
   "source": [
    "from sklearn import datasets\n",
    "import matplotlib.pyplot as plt\n",
    "import random\n",
    "random.seed(1)\n",
    "iris = datasets.load_iris()"
   ]
  },
  {
   "cell_type": "markdown",
   "metadata": {},
   "source": [
    "Here, we separate our training and testing data. `trainData` holds the information for various points of data, and `trainClass` is the appropriate class they are. `testData` and `testClass` are similar, but we'll be using them to validate our method."
   ]
  },
  {
   "cell_type": "code",
   "execution_count": 113,
   "metadata": {},
   "outputs": [],
   "source": [
    "trainData = list(iris.data[:])\n",
    "trainClass = list(iris.target[:])\n",
    "testData = []\n",
    "testClass = []\n",
    "for i in range(30):\n",
    "    idx = random.randrange(len(trainData))\n",
    "    testData.append(trainData[idx])\n",
    "    testClass.append(trainClass[idx])\n",
    "    del trainData[idx]\n",
    "    del trainClass[idx]"
   ]
  },
  {
   "cell_type": "markdown",
   "metadata": {},
   "source": [
    "Below are functions we use to implement the $k$-Nearest Neighbors method."
   ]
  },
  {
   "cell_type": "code",
   "execution_count": 114,
   "metadata": {},
   "outputs": [],
   "source": [
    "def distance(one, two):\n",
    "    dist = 0\n",
    "    for i in range(len(one)):\n",
    "        dist += (one[i] - two[i]) ** 2\n",
    "    return dist"
   ]
  },
  {
   "cell_type": "code",
   "execution_count": 115,
   "metadata": {},
   "outputs": [],
   "source": [
    "def majority(results, k):\n",
    "    occurrences = {}\n",
    "    for i in range(k):\n",
    "        if results[i][1] in occurrences:\n",
    "            occurrences[results[i][1]] += 1\n",
    "        else:\n",
    "            occurrences[results[i][1]] = 1\n",
    "    leadCandidates = []\n",
    "    keys = list(occurrences.keys())\n",
    "    leadCandidates.append(keys[0])\n",
    "    for key, value in occurrences.items():\n",
    "        if value > occurrences[leadCandidates[0]]:\n",
    "            leadCandidates = [key]\n",
    "        elif value == occurrences[leadCandidates[0]]:\n",
    "            leadCandidates.append(key)\n",
    "    return random.choice(leadCandidates)"
   ]
  },
  {
   "cell_type": "code",
   "execution_count": 116,
   "metadata": {},
   "outputs": [],
   "source": [
    "def kNN(k, newData, trainData, trainClass):\n",
    "    results = [] # List of ordered pairs that we'll pass to majority\n",
    "    for i in range(len(trainData)):\n",
    "        dist = distance(newData, trainData[i])\n",
    "        classification = trainClass[i]\n",
    "        results.append((dist, classification))\n",
    "    results = sorted(results)\n",
    "    return majority(results, k)"
   ]
  },
  {
   "cell_type": "markdown",
   "metadata": {},
   "source": [
    "Here, we test our method and output the percent accuracy it is. Feel free to adjust `k` to see how it affects the accuracy!"
   ]
  },
  {
   "cell_type": "code",
   "execution_count": 117,
   "metadata": {},
   "outputs": [
    {
     "name": "stdout",
     "output_type": "stream",
     "text": [
      "96.66666666666667\n"
     ]
    }
   ],
   "source": [
    "k = 5\n",
    "results = [kNN(k, testData[i], trainData, trainClass) for i in range(len(testData))]\n",
    "counter = 0\n",
    "for i in range(len(results)):\n",
    "    if results[i] == testClass[i]:\n",
    "        counter += 1\n",
    "print(counter / len(testData) * 100)"
   ]
  },
  {
   "cell_type": "markdown",
   "metadata": {},
   "source": [
    "Here, we plot out our data so that we get a nice visualization of how it's distributed. Note that the data for each flower originally has four values, but we take only the first two because we can't plot things in four dimensions. Each RGB color represents a different class/type of flower, and the black ones are the ones we are trying to classify."
   ]
  },
  {
   "cell_type": "code",
   "execution_count": 118,
   "metadata": {},
   "outputs": [
    {
     "data": {
      "image/png": "[encoded data removed]",
      "text/plain": [
       "<Figure size 432x288 with 1 Axes>"
      ]
     },
     "metadata": {
      "needs_background": "light"
     },
     "output_type": "display_data"
    }
   ],
   "source": [
    "colors = [\"ro\", \"go\", \"bo\"]\n",
    "\n",
    "for i in range(len(trainClass)):\n",
    "    plt.plot(trainData[i][0], trainData[i][1], colors[trainClass[i]])\n",
    "\n",
    "for i in range(len(testClass)):\n",
    "    plt.plot(testData[i][0], testData[i][1], 'ko')"
   ]
  }
 ],
 "metadata": {
  "kernelspec": {
   "display_name": "Python 3",
   "language": "python",
   "name": "python3"
  },
  "language_info": {
   "codemirror_mode": {
    "name": "ipython",
    "version": 3
   },
   "file_extension": ".py",
   "mimetype": "text/x-python",
   "name": "python",
   "nbconvert_exporter": "python",
   "pygments_lexer": "ipython3",
   "version": "3.6.10"
  }
 },
 "nbformat": 4,
 "nbformat_minor": 4
}
