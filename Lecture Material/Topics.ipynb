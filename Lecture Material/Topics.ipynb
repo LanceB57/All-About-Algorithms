{
 "cells": [
  {
   "cell_type": "markdown",
   "metadata": {},
   "source": [
    "## Potential Future Topics for A^3!\n",
    "Here are potential future topics for our $A^3$ lectures. Vote for which one  you want in the Discord!"
   ]
  },
  {
   "cell_type": "markdown",
   "metadata": {},
   "source": [
    "### $1.$ Divide and Conquer\n",
    "Divide and Conquer is a fundamental algorithm style that revolves around recursion, and correct applications can make your code a lot neater and faster! We'll cover how Divide and Conquer works, and its use in sorting and competition problems. Will probably require only one meeting."
   ]
  },
  {
   "cell_type": "markdown",
   "metadata": {},
   "source": [
    "### $2.$ Graph Thoery\n",
    "Graph Theory has tons of applications in today's world. From scheduling to networking, graphs give us a neat yet effective way to represent problems in real life. Will probably require three meetings."
   ]
  },
  {
   "cell_type": "markdown",
   "metadata": {},
   "source": [
    "### $3.$ Graph Algorithms\n",
    "With Graph Theory comes Graph Algorithms! A big concern with graph algorithms is searching, but there are also numerous other problems we can solve using graph algorithms. Graph Algorithms are used in a variety of different areas of computer science, especially Artificial Intelligence. Will probably require two meetings, and I recommend we do Graph Theory beforehand."
   ]
  },
  {
   "cell_type": "markdown",
   "metadata": {},
   "source": [
    "### $4.$ RSA Encryption (with Quantum Computing aspects)\n",
    "Ever wondered how digital encryption works? RSA Encryption is a very common encryption technique, and it's used in web browsers, chatting applications, VPNs, and many other types of communication. After discussing how RSA Encryption works (and trying it out for ourselves), we'll discuss how Quantum Computing can essentially \"break\" it. Will probably require only one meeting, and is a great setup for P vs. NP."
   ]
  },
  {
   "cell_type": "markdown",
   "metadata": {},
   "source": [
    "### $5.$ P vs. NP\n",
    "If you solve this question, you win a million dollars! If that's not enough incentive for you to want to have a lecture on it, then I don't know what is. One meeting long."
   ]
  },
  {
   "cell_type": "markdown",
   "metadata": {},
   "source": [
    "### $6.$ Deep Learning (with DIY aspect!)\n",
    "Artifical Intelligence seems to be the only thing big tech companies can talk about these days, and for good reason; it's amazing! Deep Learning is a subtopic of Artificial Intelligence and Machine Learning, and it deals specifically with the use of artifical neural networks. We'll spend a lot of time dwelling over the mathematics behind Deep Learning and eventually code and test a neural network of our own! Will probably take about $5$ meetings, and prep will take some time."
   ]
  },
  {
   "cell_type": "markdown",
   "metadata": {},
   "source": [
    "### Side Note\n",
    "In light of the *USACO* being somewhat near, we'll be doing a problem review for the two meetings before the December competition."
   ]
  },
  {
   "cell_type": "markdown",
   "metadata": {},
   "source": [
    "#### Formatting"
   ]
  },
  {
   "cell_type": "code",
   "execution_count": 1,
   "metadata": {},
   "outputs": [
    {
     "data": {
      "text/html": [
       "<style>.container { width:85% !important; }</style>"
      ],
      "text/plain": [
       "<IPython.core.display.HTML object>"
      ]
     },
     "metadata": {},
     "output_type": "display_data"
    }
   ],
   "source": [
    "from IPython.core.display import display, HTML\n",
    "display(HTML(\"<style>.container { width:85% !important; }</style>\"))"
   ]
  }
 ],
 "metadata": {
  "kernelspec": {
   "display_name": "Python 3",
   "language": "python",
   "name": "python3"
  },
  "language_info": {
   "codemirror_mode": {
    "name": "ipython",
    "version": 3
   },
   "file_extension": ".py",
   "mimetype": "text/x-python",
   "name": "python",
   "nbconvert_exporter": "python",
   "pygments_lexer": "ipython3",
   "version": "3.6.10"
  }
 },
 "nbformat": 4,
 "nbformat_minor": 4
}
