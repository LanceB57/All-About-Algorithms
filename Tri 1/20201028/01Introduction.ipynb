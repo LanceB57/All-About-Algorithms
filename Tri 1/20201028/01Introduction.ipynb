{
 "cells": [
  {
   "cell_type": "markdown",
   "metadata": {
    "hideCode": true,
    "hidePrompt": true
   },
   "source": [
    "<style>\n",
    ".text_cell_render {\n",
    "font-family: Times New Roman, serif;\n",
    "}\n",
    "</style>"
   ]
  },
  {
   "cell_type": "markdown",
   "metadata": {
    "hideCode": true,
    "hidePrompt": true
   },
   "source": [
    "# October 28, 2020: Introduction\n",
    "### Lance Bae"
   ]
  },
  {
   "cell_type": "markdown",
   "metadata": {
    "hideCode": true,
    "hidePrompt": true
   },
   "source": [
    "### 1. Introduction\n",
    "\n",
    "Hello everyone! Welcome to the *All About Algorithms* club, where we'll explore algorithms in computer science. Algorithms have a lot to do with math, which is why they're one of my favorite aspects of computer science; plus, they're just cool in general! If you have any questions, you can email me at lanbae23@bergen.org, or discord friend/message me (Lance#1721). Plus, Jaiden (jaishi23@bergen.org) and Autumn (autshi22@bergen.org) agreed to help me out; they're just as good (if not better) than me with competitive programming, so feel free to contact them too!"
   ]
  },
  {
   "cell_type": "markdown",
   "metadata": {
    "hideCode": true,
    "hidePrompt": true
   },
   "source": [
    "### 2. Resources\n",
    "\n",
    "I'll be uploading all of the material for this club on my Github repository, which you can find at ____. Github is a super useful resource for coding projects, and I highly recommend familiarizing yourself with it if you haven't already. I'm also pretty sure Mr. Wang reviews it in Intro to Comp Sci, so this'll give you freshmen a head start!\n",
    "\n",
    "There's also a Discord server at _______, where you can collaborate with one another and ask questions throughout the week. I'll be posting the passwords to problem solutions there (solutions will be password-encrypted), so make sure to join if you want to make the most out of this club!\n",
    "\n",
    "All of the problem solutions and such will most likely be written in Jupyter Notebooks (also a super helpful resouce!), and I'll do my best to write solutions in Python, Java, and C++. These are the three most commonly used programming languages in competitions, and I highly recommend learning C++ if you're stuck in the middle. If you need any help with getting started with a language, reach out and I can point you in the right direction to get started.\n",
    "\n",
    "As for the lecture series, I'll be using material from both *Algorithm Design* by Klein and Tardos (let me know if you want a digital copy) and my own memory.\n",
    "\n",
    "Because most of this material will be made manually by me, I ask that you do not distribute it to *anyone* without my consent."
   ]
  },
  {
   "cell_type": "markdown",
   "metadata": {
    "hideCode": true,
    "hidePrompt": true
   },
   "source": [
    "### 3. What's a typical day going to look like?\n",
    "\n",
    "Almost every week, we'll have two breakout rooms: one as a beginner problem session, and another as an intermediate/advanced. I know that it might be awkward talking to people you don't know/haven't met in person, but I really encourage that you guys collaborate verbally on problems! If you're able to create relationships now, they'll prove to be valuable as you progress through your programming quest.\n",
    "\n",
    "Although Jaiden, Autumn, and I will try our best to be present in each problem session to give hints and help out, I will be giving lecture series throughout the duration of this club. I expect students in the intermediate/advanced problem sessions to attend these lectures, but it is ultimately up to you. During weeks when there are lectures, we will have only one problem session going on, but most likely unable to provide help on the spot. However, I'll try my best to write hints and solutions beforehand so that you can reference them when we're unavailable. When Mr. Wang returns, I'm hoping that he will be able to assist."
   ]
  },
  {
   "cell_type": "markdown",
   "metadata": {},
   "source": [
    "### 4. Lectures (optional)\n",
    "\n",
    "Lectures, in my opinion, will be the highlight of this club. They'll be rigorous, involve many different aspects of math, and certainly improve your understanding of algorithms in computer science (which equals fun)! However, I want to make sure that everyone attending lectures will be able to understand each and every part of them. Because of this, I recommend caution if you're going to attend. If you're unsure, talk to me, or feel free to sit in on a couple of the first lectures and evaluate based off of that.\n",
    "\n",
    "Currently, the first two topics below are $100\\%$ going to be the first two lecture series, but I am considering the rest:\n",
    "- Stable Matching and Analysis of the GS Algorithm\n",
    "- Runtime Analysis\n",
    "- Graph Theory Hodgepodge\n",
    "- Encryption\n",
    "- Graph Algorithms\n",
    "- Machine Learning\n",
    "\n",
    "To be honest, I am actually going to *discourage* researching these topics before the lecture series. After all, what's the fun in learning something you already know?\n",
    "\n",
    "If you have a specific topic you want to see discussed, let me know!"
   ]
  },
  {
   "cell_type": "markdown",
   "metadata": {
    "hideCode": true,
    "hidePrompt": true
   },
   "source": [
    "### 5. Commitment / Motivation\n",
    "\n",
    "This club is supposed to be something that's for fun! There will be no assigned work or anything of the sort, but I will be more than happy to give you (individually) extra problems if you want! If you're truly passionate about algorithms, then I promise that I will do my best to make this club as enjoyable as possible.\n",
    "\n",
    "Also, I'm a student too; I understand that there are days where you're swamped with work or just feeling under the weather. If that's the case, let me know and I'll do my best to work around!"
   ]
  },
  {
   "cell_type": "markdown",
   "metadata": {},
   "source": [
    "##### Ignore"
   ]
  },
  {
   "cell_type": "code",
   "execution_count": 1,
   "metadata": {},
   "outputs": [
    {
     "data": {
      "text/html": [
       "<style>.container { width:85% !important; }</style>"
      ],
      "text/plain": [
       "<IPython.core.display.HTML object>"
      ]
     },
     "metadata": {},
     "output_type": "display_data"
    }
   ],
   "source": [
    "from IPython.core.display import display, HTML\n",
    "display(HTML(\"<style>.container { width:85% !important; }</style>\"))"
   ]
  }
 ],
 "metadata": {
  "hide_code_all_hidden": true,
  "kernelspec": {
   "display_name": "Python 3",
   "language": "python",
   "name": "python3"
  },
  "language_info": {
   "codemirror_mode": {
    "name": "ipython",
    "version": 3
   },
   "file_extension": ".py",
   "mimetype": "text/x-python",
   "name": "python",
   "nbconvert_exporter": "python",
   "pygments_lexer": "ipython3",
   "version": "3.8.3"
  }
 },
 "nbformat": 4,
 "nbformat_minor": 4
}
