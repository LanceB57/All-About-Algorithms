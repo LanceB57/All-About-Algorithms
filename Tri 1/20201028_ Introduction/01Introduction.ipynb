{
 "cells": [
  {
   "cell_type": "markdown",
   "metadata": {
    "hideCode": true,
    "hidePrompt": true
   },
   "source": [
    "<style>\n",
    ".text_cell_render {\n",
    "font-family: Times New Roman, serif;\n",
    "}\n",
    "</style>"
   ]
  },
  {
   "cell_type": "markdown",
   "metadata": {
    "hideCode": true,
    "hidePrompt": true
   },
   "source": [
    "# $A^3$ October 28, 2020: Introduction\n",
    "### Lance Bae"
   ]
  },
  {
   "cell_type": "markdown",
   "metadata": {
    "hideCode": true,
    "hidePrompt": true
   },
   "source": [
    "### 1. Introduction\n",
    "\n",
    "Hello everyone! Welcome to the *All About Algorithms* club, where we'll explore algorithms in computer science. Algorithms have a lot to do with math, which is why they're one of my favorite aspects of computer science; plus, they're just cool in general! If you have any questions, you can email me at <span style=\"color:blue\">lanbae23@bergen.org</span>, or Discord friend/message me (<span style=\"color:blue\">Lance#1721</span>). Plus, Jaiden (<span style=\"color:blue\">jaishi23@bergen.org</span>) and Autumn (<span style=\"color:blue\">autshi22@bergen.org</span>) agreed to help me out; they're just as good (if not better) than me with competitive programming, so feel free to contact them too!"
   ]
  },
  {
   "cell_type": "markdown",
   "metadata": {
    "hideCode": true,
    "hidePrompt": true
   },
   "source": [
    "### 2. Resources\n",
    "\n",
    "I'll be uploading all of the material for this club on my Github repository, which you can find [here](https://github.com/LanceB57/All-About-Algorithms). Github is a super useful resource for coding projects, and I highly recommend familiarizing yourself with it if you haven't already. I'm also pretty sure Mr. Wang reviews it in Intro to Comp Sci, so this'll give you freshmen a head start!\n",
    "\n",
    "There's a Discord server you can join ______, where you can collaborate with one another and ask questions throughout the week. We'll be posting the passwords to problem solutions there (solutions will be password-encrypted), so make sure to join if you want to make the most out of this club!\n",
    "\n",
    "All of the problem solutions will most likely be written in Jupyter Notebooks (also a super helpful resouce!). For introductory problem sets, we'll write solutions in both Python and C++. As for intermediate, we'll write solutions in only C++, as Python will not be fast enough for silver-level problems. Hence, I highly recommend learning C++; it'll definitely come in handy down the road. Resources for learning Python and C++ can be found in Intro PSet 1!\n",
    "\n",
    "Most, if not all, problems will come from [USACO](http://usaco.org/), [Codeforces](https://codeforces.com/), [Leetcode](https://leetcode.com/), or [HackerRank](https://www.hackerrank.com/dashboard), so make sure to create your accounts for these before our next meeting. HackerRank provides the ability to create custom contests, which we will definitely consider exploring.\n",
    "\n",
    "As for the lecture series, I will be using material from various textbooks (let me know if you would like a digital copy) and my own knowledge.\n",
    "\n",
    "Because most of this material will be made manually by us, we ask that you <span style=\"color:red\">do not distribute it without our consent</span>."
   ]
  },
  {
   "cell_type": "markdown",
   "metadata": {
    "hideCode": true,
    "hidePrompt": true
   },
   "source": [
    "### 3. What's a typical meeting going to look like?\n",
    "\n",
    "For regular meetings, we'll have two breakout rooms: one as a Introductory problem session, and another for Intermediate and Advanced. We know that it might be awkward talking to people you don't know/haven't met in person, but we really encourage that you all collaborate verbally on problems! If you're able to create relationships now, they'll prove to be valuable as you progress throughout your programming career.\n",
    "\n",
    "Introductory problem sets will be focused for those who have just gotten started with competitive programming and aiming to familiarize themselves with USACO Bronze questions. Intermediate problem sets will be focused on those who are pushing to pass Bronze or looking to familiarize themselves with Silver strategies. The Advanced sessions will be for everyone else and will not having problem sets; instead, we'll do something like a \"Problem of the Day\".\n",
    "\n",
    "However, I will be giving a few optional lecture series throughout the duration of this club. I expect students in the Intermediate/Advanced problem sessions to attend these lectures, but it is ultimately up to you. During weeks when there are lectures, we will have only one breakout room going on and help will most likely be unavailable during club time. This would be a good opportunity to use the Discord server, as we'll be able to provide help after school. When Mr. Wang returns, we're hoping that he will be able to assist with the breakout room when a lecture is going on."
   ]
  },
  {
   "cell_type": "markdown",
   "metadata": {},
   "source": [
    "### 4. Lectures (optional)\n",
    "\n",
    "Lectures, in my opinion, will be the highlight of this club. They'll be rigorous, involve different aspects of math, and certainly improve your understanding of algorithms in computer science (which equals fun)! However, I want to make sure that everyone attending lectures will be able to understand each and every part of them. Because of this, I recommend caution if you're going to attend. If you're unsure, ask or sit in on a couple of the first lectures and evaluate based off of that.\n",
    "\n",
    "Currently, the first two topics below are $100\\%$ going to be the first two lecture series, and I am contemplating the rest:\n",
    "- Stable Matching and Analysis of the GS Algorithm\n",
    "- Runtime Analysis\n",
    "- Graph Theory Hodgepodge\n",
    "- RSA Encryption\n",
    "- Graph Algorithms\n",
    "- Machine Learning from Scratch (DIY Aspect!)\n",
    "\n",
    "Lecture series may go deep into the mathematics and proofs depending on the topic, which will require multiple weeks to cover. There will not be enough time for every topic, so we'll vote on which topics to go over once we get there. Additionally, if the club is successful, we will heavily consider offering it again, meaning more topics!\n",
    "\n",
    "I expect there to be $\\ge 2$ weeks inbetween lecture series, so those who attend also get the chance to be a part of problem sessions.\n",
    "\n",
    "To be honest, I am actually going to <span style=\"color:red\">discourage</span> researching these topics before the lecture series. After all, what's the fun in learning something you already know?\n",
    "\n",
    "If you have a specific topic you want to see discussed, let me know!"
   ]
  },
  {
   "cell_type": "markdown",
   "metadata": {
    "hideCode": true,
    "hidePrompt": true
   },
   "source": [
    "### 5. Commitment\n",
    "\n",
    "This club is supposed to be fun! There will be no assigned work or anything of the sort, but we will be more than happy to supply extra problems if you want! If you're truly passionate about learning, then we promise that we'll do our best to make this club as enjoyable as possible.\n",
    "\n",
    "However, one part that I am going to *require* is that lecture attendees ask questions. Every time there's something you don't know, feel free to interrupt me and ask; this way, I can make sure that everyone is keeping up with the lecture. The alternative to this would be cold calling, which I'm sure no one wants.\n",
    "\n",
    "Also, we're students too; we understand that there are days where you're swamped with work or just feeling under the weather. If that's the case, let us know and we'll do our best to help out!"
   ]
  },
  {
   "cell_type": "markdown",
   "metadata": {},
   "source": [
    "##### Ignore"
   ]
  },
  {
   "cell_type": "code",
   "execution_count": 1,
   "metadata": {},
   "outputs": [
    {
     "data": {
      "text/html": [
       "<style>.container { width:85% !important; }</style>"
      ],
      "text/plain": [
       "<IPython.core.display.HTML object>"
      ]
     },
     "metadata": {},
     "output_type": "display_data"
    }
   ],
   "source": [
    "from IPython.core.display import display, HTML\n",
    "display(HTML(\"<style>.container { width:85% !important; }</style>\"))"
   ]
  }
 ],
 "metadata": {
  "hide_code_all_hidden": true,
  "kernelspec": {
   "display_name": "Python 3",
   "language": "python",
   "name": "python3"
  },
  "language_info": {
   "codemirror_mode": {
    "name": "ipython",
    "version": 3
   },
   "file_extension": ".py",
   "mimetype": "text/x-python",
   "name": "python",
   "nbconvert_exporter": "python",
   "pygments_lexer": "ipython3",
   "version": "3.6.10"
  }
 },
 "nbformat": 4,
 "nbformat_minor": 4
}
