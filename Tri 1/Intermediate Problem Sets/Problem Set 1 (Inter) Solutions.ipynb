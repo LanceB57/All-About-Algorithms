{
 "cells": [
  {
   "cell_type": "markdown",
   "metadata": {},
   "source": [
    "<style>\n",
    ".text_cell_render {\n",
    "font-family: Times New Roman, serif;\n",
    "}\n",
    "</style>\n"
   ]
  },
  {
   "cell_type": "markdown",
   "metadata": {},
   "source": [
    "# $A^3$ Intermediate Problem Set 1 Solutions"
   ]
  },
  {
   "cell_type": "markdown",
   "metadata": {},
   "source": [
    "## Question 1: [Codeforces 25A. IQ Test](https://codeforces.com/problemset/problem/25/A)\n",
    "#### Lance B.\n",
    "For this question, just keep track of all even and odd numbers in separate arrays/vectors. At the end, output the contents of the one that is of size one.\n",
    "```\n",
    "#include <iostream>\n",
    "#include <vector>\n",
    "using namespace std;\n",
    "\n",
    "typedef vector<int> vi;\n",
    "\n",
    "#define PB push_back\n",
    "\n",
    "int main(){\n",
    "    vi even, odd;\n",
    "    int N; cin >> N;\n",
    "    for(int i = 0; i < N; i++){\n",
    "        int curr; cin >> curr;\n",
    "        if(curr % 2 == 0) even.PB(i);\n",
    "        else odd.PB(i);\n",
    "    }\n",
    "    if(even.size() == 1) cout << even[0] + 1 << '\\n';\n",
    "    else cout << odd[0] + 1 << '\\n';\n",
    "}\n",
    "```"
   ]
  },
  {
   "cell_type": "markdown",
   "metadata": {},
   "source": [
    "## Question 2: [Leetcode 121. Best Time to Buy and Sell Stock](https://leetcode.com/problems/best-time-to-buy-and-sell-stock/)\n",
    "#### Lance B.\n",
    "Imagine the array as a series of \"peaks\" and \"valleys\". Let $v_i$ be the lowest valley up to index $i$, with $p_i$ being the greatest profit you can make if you sold at index $i$. Whenever we come across a value at $i + 1$ that is less than $v_i$, we can let $v_{i+1} = prices[i + 1]$. Doing so will maximize $p_j$, $j > i$ because $prices[j]$ stays constant, but we are minimizing $v_j$. Keep track of the $p_j$ values, and pick the greatest one.\n",
    "```\n",
    "class Solution {\n",
    "public:\n",
    "    int maxProfit(vector<int>& prices) {\n",
    "        if(prices.size() == 0) return 0;\n",
    "        int ans = 0;\n",
    "        int valley = prices[0];\n",
    "        for(int i = 0; i < prices.size(); i++){\n",
    "            if(prices[i] < valley) valley = prices[i];\n",
    "            else ans = max(ans, prices[i] - valley);\n",
    "        }\n",
    "        return ans;\n",
    "    }\n",
    "};\n",
    "```"
   ]
  },
  {
   "cell_type": "markdown",
   "metadata": {},
   "source": [
    "## Question 3: [USACO 2015 Bronze: Hopscotch](http://www.usaco.org/index.php?page=viewproblem2&cpid=528)\n",
    "#### Lance B.\n",
    "This problem can be solved using recursion. Let $grid$ be the $2D$ array of the hopscotch grid.\n",
    "\n",
    "Let $h(x, y)$ be the recursive function at row $x$ and column $y$. \n",
    "- If $x == R-1$ and $y == C - 1$ (note that we use $R-1$ and $C-1$ because indexing starts at $0$), then we should return $1$, signifying that we have found a unique path that is possible.\n",
    "- Otherwise, perform $h(i, j)$ for all $i > x$ and $j > y$ as long as $i$ and $j$ are in bounds, and $grid[x][y] \\ne grid[i][j]$.\n",
    "- Start $h(x, y)$ at $x==0$ and $y==0$ (upper left corner)\n",
    "\n",
    "```\n",
    "#include <iostream>\n",
    "#include <vector>\n",
    "#include <fstream>\n",
    "using namespace std;\n",
    "\n",
    "typedef vector<char> vc;\n",
    "typedef vector<vc> vvc;\n",
    "vvc grid;\n",
    "int R, C; \n",
    "\n",
    "int h(int x, int y){\n",
    "    if(x == R - 1 && y == C - 1) return 1;\n",
    "    int cnt = 0;\n",
    "    for(int i = x + 1; i < R; i++){\n",
    "        for(int j = y + 1; j < C; j++){\n",
    "            if(grid[i][j] != grid[x][y]){\n",
    "                cnt += h(i, j);\n",
    "            }\n",
    "        }\n",
    "    }\n",
    "    return cnt;\n",
    "}\n",
    "\n",
    "int main(){\n",
    "    ifstream fin (\"hopscotch.in\"); ofstream fout (\"hopscotch.out\");\n",
    "    fin >> R >> C;\n",
    "    grid.resize(R, vc(C));\n",
    "    for(int i = 0; i < R; i++){\n",
    "        for(int j = 0; j < C; j++){\n",
    "            fin >> grid[i][j];\n",
    "        }\n",
    "    }\n",
    "    fout << h(0, 0) << '\\n';\n",
    "}\n",
    "```"
   ]
  },
  {
   "cell_type": "markdown",
   "metadata": {},
   "source": [
    "#### Ignore"
   ]
  },
  {
   "cell_type": "code",
   "execution_count": 1,
   "metadata": {},
   "outputs": [
    {
     "data": {
      "text/html": [
       "<style>.container { width:85% !important; }</style>"
      ],
      "text/plain": [
       "<IPython.core.display.HTML object>"
      ]
     },
     "metadata": {},
     "output_type": "display_data"
    }
   ],
   "source": [
    "from IPython.core.display import display, HTML\n",
    "display(HTML(\"<style>.container { width:85% !important; }</style>\"))"
   ]
  }
 ],
 "metadata": {
  "kernelspec": {
   "display_name": "Python 3",
   "language": "python",
   "name": "python3"
  },
  "language_info": {
   "codemirror_mode": {
    "name": "ipython",
    "version": 3
   },
   "file_extension": ".py",
   "mimetype": "text/x-python",
   "name": "python",
   "nbconvert_exporter": "python",
   "pygments_lexer": "ipython3",
   "version": "3.8.3"
  }
 },
 "nbformat": 4,
 "nbformat_minor": 4
}
